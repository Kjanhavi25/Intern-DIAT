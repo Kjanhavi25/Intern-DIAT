{
 "cells": [
  {
   "cell_type": "markdown",
   "metadata": {},
   "source": [
    "GUI Window"
   ]
  },
  {
   "cell_type": "code",
   "execution_count": 1,
   "metadata": {},
   "outputs": [],
   "source": [
    "import tkinter\n",
    "m=tkinter.Tk()\n",
    "m.mainloop()\n"
   ]
  },
  {
   "cell_type": "markdown",
   "metadata": {},
   "source": [
    "Label"
   ]
  },
  {
   "cell_type": "code",
   "execution_count": 2,
   "metadata": {},
   "outputs": [],
   "source": [
    "from tkinter import*\n",
    "root=Tk()\n",
    "w=Label(root, text=\"Hello World\");\n",
    "w.pack()\n",
    "root.mainloop()"
   ]
  },
  {
   "cell_type": "markdown",
   "metadata": {},
   "source": [
    "Button"
   ]
  },
  {
   "cell_type": "code",
   "execution_count": 3,
   "metadata": {},
   "outputs": [],
   "source": [
    "import tkinter as tk\n",
    "r=tk.Tk()\n",
    "r.title('Counting Seconds')\n",
    "button=tk.Button(r, text='Stop', width=25, command=r.destroy)\n",
    "button.pack()\n",
    "r.mainloop()"
   ]
  },
  {
   "cell_type": "markdown",
   "metadata": {},
   "source": [
    "TextBox"
   ]
  },
  {
   "cell_type": "code",
   "execution_count": 4,
   "metadata": {},
   "outputs": [],
   "source": [
    "from tkinter import*\n",
    "master=Tk()\n",
    "Label(master, text='First Name').grid(row=0)\n",
    "Label(master, text='Last Name').grid(row=1)\n",
    "e1=Entry(master)\n",
    "e2=Entry(master)\n",
    "e1.grid(row=0, column=1)\n",
    "e2.grid(row=1, column=1)\n",
    "mainloop()"
   ]
  },
  {
   "cell_type": "markdown",
   "metadata": {},
   "source": [
    "Checkbox"
   ]
  },
  {
   "cell_type": "code",
   "execution_count": 5,
   "metadata": {},
   "outputs": [],
   "source": [
    "from tkinter import*\n",
    "master=Tk()\n",
    "var1=IntVar()\n",
    "Checkbutton(master, text='male', variable=var1).grid(row=0, sticky=W)\n",
    "var2=IntVar()\n",
    "Checkbutton(master, text='female', variable=var2).grid(row=1, sticky=W)\n",
    "mainloop()"
   ]
  },
  {
   "cell_type": "markdown",
   "metadata": {},
   "source": [
    "RadioButton"
   ]
  },
  {
   "cell_type": "code",
   "execution_count": 6,
   "metadata": {},
   "outputs": [],
   "source": [
    "from tkinter import*\n",
    "master=Tk()\n",
    "v=IntVar()\n",
    "Radiobutton(master, text='Girl', variable=v, value=1).pack(anchor=W)\n",
    "Radiobutton(master, text='Boy', variable=v, value=2).pack(anchor=W)\n",
    "mainloop()"
   ]
  },
  {
   "cell_type": "markdown",
   "metadata": {},
   "source": [
    "List"
   ]
  },
  {
   "cell_type": "code",
   "execution_count": 7,
   "metadata": {},
   "outputs": [],
   "source": [
    "from tkinter import*\n",
    "top=Tk()\n",
    "Lb=Listbox(top)\n",
    "Lb.insert(1, 'Python')\n",
    "Lb.insert(2, 'Java')\n",
    "Lb.insert(3, 'C++')\n",
    "Lb.insert(4, 'Any Other')\n",
    "Lb.pack()\n",
    "mainloop()"
   ]
  },
  {
   "cell_type": "markdown",
   "metadata": {},
   "source": [
    "Menu bar"
   ]
  },
  {
   "cell_type": "code",
   "execution_count": 8,
   "metadata": {},
   "outputs": [],
   "source": [
    "from tkinter import*\n",
    "root=Tk()\n",
    "menu=Menu(root)\n",
    "root.config(menu=menu)\n",
    "filemenu=Menu(menu)\n",
    "menu.add_cascade(label='File', menu=filemenu)\n",
    "filemenu.add_command(label='New')\n",
    "filemenu.add_command(label='Open...')\n",
    "filemenu.add_separator()\n",
    "filemenu.add_command(label='Exit', command=root.quit)\n",
    "helpmenu=Menu(menu)\n",
    "menu.add_cascade(label='Help', menu=helpmenu)\n",
    "helpmenu.add_command(label='About')\n",
    "mainloop()"
   ]
  },
  {
   "cell_type": "markdown",
   "metadata": {},
   "source": [
    "Simple GUI for Login Form"
   ]
  },
  {
   "cell_type": "markdown",
   "metadata": {},
   "source": [
    "Username: admin"
   ]
  },
  {
   "cell_type": "markdown",
   "metadata": {},
   "source": [
    "Password: password"
   ]
  },
  {
   "cell_type": "code",
   "execution_count": 9,
   "metadata": {},
   "outputs": [],
   "source": [
    "import tkinter as tk\n",
    "from tkinter import messagebox\n",
    "\n",
    "def login():\n",
    "    username = username_entry.get()\n",
    "    password = password_entry.get()\n",
    "\n",
    "    if username == \"admin\" and password == \"password\":\n",
    "        messagebox.showinfo(\"Login Success\", \"Welcome, Admin!\")\n",
    "    else:\n",
    "        messagebox.showerror(\"Login Failed\", \"Invalid Credentials\")\n",
    "root = tk.Tk()\n",
    "root.title(\"Login Page\")\n",
    "root.geometry(\"400x300\")\n",
    "#Background colour\n",
    "root.configure(bg='#ADD8E6')\n",
    "\n",
    "title_label = tk.Label(root, text=\"Login\", font=(\"Arial\", 24), bg='#ADD8E6', fg=\"#333\")\n",
    "title_label.pack(pady=20)\n",
    "\n",
    "username_label = tk.Label(root, text=\"Username\", font=(\"Arial\", 14), bg='#ADD8E6', fg=\"#333\")\n",
    "username_label.pack(pady=5)\n",
    "username_entry = tk.Entry(root, font=(\"Arial\", 14), width=30)\n",
    "username_entry.pack(pady=5)\n",
    "\n",
    "password_label = tk.Label(root, text=\"Password\", font=(\"Arial\", 14), bg='#ADD8E6', fg=\"#333\")\n",
    "password_label.pack(pady=5)\n",
    "password_entry = tk.Entry(root, font=(\"Arial\", 14), show=\"*\", width=30)\n",
    "password_entry.pack(pady=5)\n",
    "\n",
    "login_button = tk.Button(root, text=\"Login\", font=(\"Arial\", 14), bg='#FFA07A', fg=\"#FFF\", command=login)\n",
    "login_button.pack(pady=20)\n",
    "\n",
    "root.mainloop()\n"
   ]
  }
 ],
 "metadata": {
  "kernelspec": {
   "display_name": "Python 3",
   "language": "python",
   "name": "python3"
  },
  "language_info": {
   "codemirror_mode": {
    "name": "ipython",
    "version": 3
   },
   "file_extension": ".py",
   "mimetype": "text/x-python",
   "name": "python",
   "nbconvert_exporter": "python",
   "pygments_lexer": "ipython3",
   "version": "3.12.6"
  }
 },
 "nbformat": 4,
 "nbformat_minor": 2
}
