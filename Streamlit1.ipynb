{
 "cells": [
  {
   "cell_type": "markdown",
   "metadata": {},
   "source": [
    "Basics of Streamlit"
   ]
  },
  {
   "cell_type": "code",
   "execution_count": 5,
   "metadata": {},
   "outputs": [
    {
     "data": {
      "text/html": [
       "\n",
       "        <iframe\n",
       "            width=\"100%\"\n",
       "            height=\"800px\"\n",
       "            src=\"http://localhost:8502\"\n",
       "            frameborder=\"0\"\n",
       "            allowfullscreen\n",
       "            \n",
       "        ></iframe>\n",
       "        "
      ],
      "text/plain": [
       "<IPython.lib.display.IFrame at 0x1e5d5d0b8f0>"
      ]
     },
     "metadata": {},
     "output_type": "display_data"
    }
   ],
   "source": [
    "import subprocess\n",
    "import threading\n",
    "import time\n",
    "from IPython.display import display, IFrame\n",
    "import os\n",
    "\n",
    "# Define the path to the Streamlit app\n",
    "app_path = \"Spractice.py\"\n",
    "\n",
    "# Function to run the Streamlit app\n",
    "def run_streamlit():\n",
    "    subprocess.run([\"streamlit\", \"run\", app_path, \"--server.headless\", \"true\", \"--server.port\", \"8502\"])\n",
    "\n",
    "# Start Streamlit in a separate thread\n",
    "thread = threading.Thread(target=run_streamlit, daemon=True)\n",
    "thread.start()\n",
    "\n",
    "# Wait for Streamlit server to start\n",
    "timeout = 10  # seconds\n",
    "for _ in range(timeout):\n",
    "    try:\n",
    "        import requests\n",
    "        response = requests.get(\"http://localhost:8502\")  # Changed to port 8502\n",
    "        if response.status_code == 200:\n",
    "            break\n",
    "    except requests.exceptions.ConnectionError:\n",
    "        pass\n",
    "    time.sleep(1)\n",
    "else:\n",
    "    print(\"Streamlit server failed to start within the timeout period.\")\n",
    "\n",
    "# Display the Streamlit app using an iframe\n",
    "display(IFrame(src=\"http://localhost:8502\", width=\"100%\", height=\"800px\"))  # Changed to port 8502\n"
   ]
  },
  {
   "cell_type": "markdown",
   "metadata": {},
   "source": [
    "Graph using Streamlit"
   ]
  },
  {
   "cell_type": "code",
   "execution_count": 6,
   "metadata": {},
   "outputs": [
    {
     "data": {
      "text/html": [
       "\n",
       "        <iframe\n",
       "            width=\"100%\"\n",
       "            height=\"800px\"\n",
       "            src=\"http://localhost:8501\"\n",
       "            frameborder=\"0\"\n",
       "            allowfullscreen\n",
       "            \n",
       "        ></iframe>\n",
       "        "
      ],
      "text/plain": [
       "<IPython.lib.display.IFrame at 0x1e5d5eafe60>"
      ]
     },
     "metadata": {},
     "output_type": "display_data"
    }
   ],
   "source": [
    "import subprocess\n",
    "import threading\n",
    "import time\n",
    "from IPython.display import display, IFrame\n",
    "\n",
    "# Define the path to the Streamlit app\n",
    "app_path = \"graph.py\"  # Adjust this path if necessary\n",
    "\n",
    "# Function to run the Streamlit app\n",
    "def run_streamlit():\n",
    "    subprocess.run([\"streamlit\", \"run\", app_path, \"--server.headless\", \"true\", \"--server.port\", \"8503\", \"--server.enableCORS\", \"false\", \"--server.address\", \"0.0.0.0\"])\n",
    "\n",
    "# Start Streamlit in a separate thread\n",
    "thread = threading.Thread(target=run_streamlit, daemon=True)\n",
    "thread.start()\n",
    "\n",
    "# Wait for Streamlit server to start\n",
    "timeout = 10  # seconds\n",
    "for _ in range(timeout):\n",
    "    try:\n",
    "        import requests\n",
    "        response = requests.get(\"http://localhost:8501\")  # Changed to port 8503\n",
    "        if response.status_code == 200:\n",
    "            break\n",
    "    except requests.exceptions.ConnectionError:\n",
    "        pass\n",
    "    time.sleep(1)\n",
    "else:\n",
    "    print(\"Streamlit server failed to start within the timeout period.\")\n",
    "\n",
    "# Display the Streamlit app using an iframe\n",
    "display(IFrame(src=\"http://localhost:8501\", width=\"100%\", height=\"800px\"))  # Changed to port 8503\n"
   ]
  },
  {
   "cell_type": "markdown",
   "metadata": {},
   "source": [
    "Login Page Using Streamlit"
   ]
  },
  {
   "cell_type": "markdown",
   "metadata": {},
   "source": [
    "Username: admin"
   ]
  },
  {
   "cell_type": "markdown",
   "metadata": {},
   "source": [
    "Password: password"
   ]
  },
  {
   "cell_type": "code",
   "execution_count": 7,
   "metadata": {},
   "outputs": [
    {
     "data": {
      "text/html": [
       "\n",
       "        <iframe\n",
       "            width=\"100%\"\n",
       "            height=\"800px\"\n",
       "            src=\"http://localhost:8503\"\n",
       "            frameborder=\"0\"\n",
       "            allowfullscreen\n",
       "            \n",
       "        ></iframe>\n",
       "        "
      ],
      "text/plain": [
       "<IPython.lib.display.IFrame at 0x1e5d5dbfb60>"
      ]
     },
     "metadata": {},
     "output_type": "display_data"
    }
   ],
   "source": [
    "import subprocess\n",
    "import threading\n",
    "import time\n",
    "from IPython.display import display, IFrame\n",
    "\n",
    "# Define the path to the Streamlit app\n",
    "app_path = \"login_app.py\"  # You can change this path if necessary\n",
    "\n",
    "# Create a Streamlit app file with your login page code\n",
    "with open(app_path, \"w\", encoding='utf-8') as f:\n",
    "    f.write(\"\"\"\n",
    "import streamlit as st\n",
    "\n",
    "st.set_page_config(page_title=\"Login Page\", page_icon=\"🔐\", layout=\"centered\")\n",
    "\n",
    "st.markdown(\n",
    "    \\\"\"\"\n",
    "    <style>\n",
    "    .stApp {\n",
    "        background-color: #1E1E2F;  /* Dark blue background */\n",
    "        color: white;  /* Text color */\n",
    "    }\n",
    "    .stTextInput>div>input {\n",
    "        background-color: #3E3E55;  /* Darker input fields */\n",
    "        color: white;\n",
    "    }\n",
    "    </style>\n",
    "    \\\"\"\",\n",
    "    unsafe_allow_html=True\n",
    ")\n",
    "\n",
    "st.title(\"🔐 Welcome to the Login Page\")\n",
    "\n",
    "username = st.text_input(\"Username\", placeholder=\"Enter your username\")\n",
    "password = st.text_input(\"Password\", type=\"password\", placeholder=\"Enter your password\")\n",
    "\n",
    "if st.button(\"Login\"):\n",
    "    if username == \"admin\" and password == \"password\":\n",
    "        st.success(\"Login successful! 🎉\")\n",
    "    else:\n",
    "        st.error(\"Invalid username or password.\")\n",
    "\n",
    "st.markdown(\n",
    "    \\\"\"\"\n",
    "    <style>\n",
    "    .stButton>button {\n",
    "        background-color: #FF8800;  /* Light orange button */\n",
    "        color: white;\n",
    "        font-size: 16px;\n",
    "        border-radius: 10px;\n",
    "        padding: 8px 16px;\n",
    "    }\n",
    "    </style>\n",
    "    \\\"\"\",\n",
    "    unsafe_allow_html=True\n",
    ")\n",
    "\"\"\")\n",
    "\n",
    "# Function to run the Streamlit app\n",
    "def run_streamlit():\n",
    "    subprocess.run([\"streamlit\", \"run\", app_path, \"--server.headless\", \"true\", \"--server.port\", \"8501\", \"--server.enableCORS\", \"false\"])\n",
    "\n",
    "# Start Streamlit in a separate thread\n",
    "thread = threading.Thread(target=run_streamlit, daemon=True)\n",
    "thread.start()\n",
    "\n",
    "# Wait for Streamlit server to start\n",
    "timeout = 10  # seconds\n",
    "for _ in range(timeout):\n",
    "    try:\n",
    "        import requests\n",
    "        response = requests.get(\"http://localhost:8503\")\n",
    "        if response.status_code == 200:\n",
    "            break\n",
    "    except requests.exceptions.ConnectionError:\n",
    "        pass\n",
    "    time.sleep(1)\n",
    "else:\n",
    "    print(\"Streamlit server failed to start within the timeout period.\")\n",
    "\n",
    "# Display the Streamlit app using an iframe\n",
    "display(IFrame(src=\"http://localhost:8503\", width=\"100%\", height=\"800px\"))\n"
   ]
  }
 ],
 "metadata": {
  "kernelspec": {
   "display_name": "Python 3",
   "language": "python",
   "name": "python3"
  },
  "language_info": {
   "codemirror_mode": {
    "name": "ipython",
    "version": 3
   },
   "file_extension": ".py",
   "mimetype": "text/x-python",
   "name": "python",
   "nbconvert_exporter": "python",
   "pygments_lexer": "ipython3",
   "version": "3.12.6"
  }
 },
 "nbformat": 4,
 "nbformat_minor": 2
}
